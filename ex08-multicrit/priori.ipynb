{
 "cells": [
  {
   "cell_type": "code",
   "execution_count": 2,
   "id": "dd1d31c9",
   "metadata": {},
   "outputs": [],
   "source": [
    "import unittest\n",
    "import logging\n",
    "from sklearn.datasets import load_wine\n",
    "import numpy as np\n",
    "\n",
    "from src.apriori import apriori\n"
   ]
  },
  {
   "cell_type": "code",
   "execution_count": 3,
   "id": "988e6223",
   "metadata": {},
   "outputs": [],
   "source": [
    "wine = load_wine()"
   ]
  },
  {
   "cell_type": "code",
   "execution_count": 4,
   "id": "d4f3baf4",
   "metadata": {},
   "outputs": [
    {
     "data": {
      "text/plain": [
       "{'data': array([[1.423e+01, 1.710e+00, 2.430e+00, ..., 1.040e+00, 3.920e+00,\n",
       "         1.065e+03],\n",
       "        [1.320e+01, 1.780e+00, 2.140e+00, ..., 1.050e+00, 3.400e+00,\n",
       "         1.050e+03],\n",
       "        [1.316e+01, 2.360e+00, 2.670e+00, ..., 1.030e+00, 3.170e+00,\n",
       "         1.185e+03],\n",
       "        ...,\n",
       "        [1.327e+01, 4.280e+00, 2.260e+00, ..., 5.900e-01, 1.560e+00,\n",
       "         8.350e+02],\n",
       "        [1.317e+01, 2.590e+00, 2.370e+00, ..., 6.000e-01, 1.620e+00,\n",
       "         8.400e+02],\n",
       "        [1.413e+01, 4.100e+00, 2.740e+00, ..., 6.100e-01, 1.600e+00,\n",
       "         5.600e+02]]),\n",
       " 'target': array([0, 0, 0, 0, 0, 0, 0, 0, 0, 0, 0, 0, 0, 0, 0, 0, 0, 0, 0, 0, 0, 0,\n",
       "        0, 0, 0, 0, 0, 0, 0, 0, 0, 0, 0, 0, 0, 0, 0, 0, 0, 0, 0, 0, 0, 0,\n",
       "        0, 0, 0, 0, 0, 0, 0, 0, 0, 0, 0, 0, 0, 0, 0, 1, 1, 1, 1, 1, 1, 1,\n",
       "        1, 1, 1, 1, 1, 1, 1, 1, 1, 1, 1, 1, 1, 1, 1, 1, 1, 1, 1, 1, 1, 1,\n",
       "        1, 1, 1, 1, 1, 1, 1, 1, 1, 1, 1, 1, 1, 1, 1, 1, 1, 1, 1, 1, 1, 1,\n",
       "        1, 1, 1, 1, 1, 1, 1, 1, 1, 1, 1, 1, 1, 1, 1, 1, 1, 1, 1, 1, 2, 2,\n",
       "        2, 2, 2, 2, 2, 2, 2, 2, 2, 2, 2, 2, 2, 2, 2, 2, 2, 2, 2, 2, 2, 2,\n",
       "        2, 2, 2, 2, 2, 2, 2, 2, 2, 2, 2, 2, 2, 2, 2, 2, 2, 2, 2, 2, 2, 2,\n",
       "        2, 2]),\n",
       " 'frame': None,\n",
       " 'target_names': array(['class_0', 'class_1', 'class_2'], dtype='<U7'),\n",
       " 'DESCR': '.. _wine_dataset:\\n\\nWine recognition dataset\\n------------------------\\n\\n**Data Set Characteristics:**\\n\\n    :Number of Instances: 178 (50 in each of three classes)\\n    :Number of Attributes: 13 numeric, predictive attributes and the class\\n    :Attribute Information:\\n \\t\\t- Alcohol\\n \\t\\t- Malic acid\\n \\t\\t- Ash\\n\\t\\t- Alcalinity of ash  \\n \\t\\t- Magnesium\\n\\t\\t- Total phenols\\n \\t\\t- Flavanoids\\n \\t\\t- Nonflavanoid phenols\\n \\t\\t- Proanthocyanins\\n\\t\\t- Color intensity\\n \\t\\t- Hue\\n \\t\\t- OD280/OD315 of diluted wines\\n \\t\\t- Proline\\n\\n    - class:\\n            - class_0\\n            - class_1\\n            - class_2\\n\\t\\t\\n    :Summary Statistics:\\n    \\n    ============================= ==== ===== ======= =====\\n                                   Min   Max   Mean     SD\\n    ============================= ==== ===== ======= =====\\n    Alcohol:                      11.0  14.8    13.0   0.8\\n    Malic Acid:                   0.74  5.80    2.34  1.12\\n    Ash:                          1.36  3.23    2.36  0.27\\n    Alcalinity of Ash:            10.6  30.0    19.5   3.3\\n    Magnesium:                    70.0 162.0    99.7  14.3\\n    Total Phenols:                0.98  3.88    2.29  0.63\\n    Flavanoids:                   0.34  5.08    2.03  1.00\\n    Nonflavanoid Phenols:         0.13  0.66    0.36  0.12\\n    Proanthocyanins:              0.41  3.58    1.59  0.57\\n    Colour Intensity:              1.3  13.0     5.1   2.3\\n    Hue:                          0.48  1.71    0.96  0.23\\n    OD280/OD315 of diluted wines: 1.27  4.00    2.61  0.71\\n    Proline:                       278  1680     746   315\\n    ============================= ==== ===== ======= =====\\n\\n    :Missing Attribute Values: None\\n    :Class Distribution: class_0 (59), class_1 (71), class_2 (48)\\n    :Creator: R.A. Fisher\\n    :Donor: Michael Marshall (MARSHALL%PLU@io.arc.nasa.gov)\\n    :Date: July, 1988\\n\\nThis is a copy of UCI ML Wine recognition datasets.\\nhttps://archive.ics.uci.edu/ml/machine-learning-databases/wine/wine.data\\n\\nThe data is the results of a chemical analysis of wines grown in the same\\nregion in Italy by three different cultivators. There are thirteen different\\nmeasurements taken for different constituents found in the three types of\\nwine.\\n\\nOriginal Owners: \\n\\nForina, M. et al, PARVUS - \\nAn Extendible Package for Data Exploration, Classification and Correlation. \\nInstitute of Pharmaceutical and Food Analysis and Technologies,\\nVia Brigata Salerno, 16147 Genoa, Italy.\\n\\nCitation:\\n\\nLichman, M. (2013). UCI Machine Learning Repository\\n[https://archive.ics.uci.edu/ml]. Irvine, CA: University of California,\\nSchool of Information and Computer Science. \\n\\n.. topic:: References\\n\\n  (1) S. Aeberhard, D. Coomans and O. de Vel, \\n  Comparison of Classifiers in High Dimensional Settings, \\n  Tech. Rep. no. 92-02, (1992), Dept. of Computer Science and Dept. of  \\n  Mathematics and Statistics, James Cook University of North Queensland. \\n  (Also submitted to Technometrics). \\n\\n  The data was used with many others for comparing various \\n  classifiers. The classes are separable, though only RDA \\n  has achieved 100% correct classification. \\n  (RDA : 100%, QDA 99.4%, LDA 98.9%, 1NN 96.1% (z-transformed data)) \\n  (All results using the leave-one-out technique) \\n\\n  (2) S. Aeberhard, D. Coomans and O. de Vel, \\n  \"THE CLASSIFICATION PERFORMANCE OF RDA\" \\n  Tech. Rep. no. 92-01, (1992), Dept. of Computer Science and Dept. of \\n  Mathematics and Statistics, James Cook University of North Queensland. \\n  (Also submitted to Journal of Chemometrics).\\n',\n",
       " 'feature_names': ['alcohol',\n",
       "  'malic_acid',\n",
       "  'ash',\n",
       "  'alcalinity_of_ash',\n",
       "  'magnesium',\n",
       "  'total_phenols',\n",
       "  'flavanoids',\n",
       "  'nonflavanoid_phenols',\n",
       "  'proanthocyanins',\n",
       "  'color_intensity',\n",
       "  'hue',\n",
       "  'od280/od315_of_diluted_wines',\n",
       "  'proline']}"
      ]
     },
     "execution_count": 4,
     "metadata": {},
     "output_type": "execute_result"
    }
   ],
   "source": [
    "wine"
   ]
  },
  {
   "cell_type": "code",
   "execution_count": 5,
   "id": "2e729143",
   "metadata": {},
   "outputs": [
    {
     "name": "stdout",
     "output_type": "stream",
     "text": [
      "[3.06 2.76 3.24 3.49 2.69 3.39 2.52 2.51 2.98 3.15 3.32 2.43 2.76 3.69\n",
      " 3.64 2.91 3.14 3.4  3.93 3.03 3.17 2.41 2.88 2.37 2.61 2.68 2.94 2.19\n",
      " 2.97 2.33 3.25 3.19 2.69 2.74 2.53 2.98 2.68 2.43 2.64 3.04 3.29 2.68\n",
      " 3.56 2.63 3.   2.65 3.17 3.39 2.92 3.54 3.27 2.99 3.74 2.79 2.9  2.78\n",
      " 3.   3.23 3.67 0.57 1.09 1.41 1.79 3.1  1.75 2.65 3.18 2.   1.3  1.28\n",
      " 1.02 2.86 1.84 2.89 2.14 1.57 2.03 1.32 1.85 2.55 2.26 2.53 1.58 1.59\n",
      " 2.21 1.94 1.69 1.61 1.69 1.59 1.5  1.25 1.46 2.25 2.26 2.27 0.99 2.5\n",
      " 3.75 2.99 2.17 1.36 2.11 1.64 1.92 1.84 2.03 1.76 2.04 2.92 2.58 2.27\n",
      " 2.03 2.01 2.29 2.17 1.6  2.09 1.25 1.64 2.79 5.08 2.13 2.65 3.03 2.65\n",
      " 3.15 2.24 2.45 1.75 1.25 1.22 1.09 1.2  0.58 0.66 0.47 0.6  0.48 0.6\n",
      " 0.5  0.5  0.52 0.8  0.78 0.55 0.34 0.65 0.76 1.39 1.57 1.36 1.28 0.83\n",
      " 0.58 0.63 0.83 0.58 1.31 1.1  0.92 0.56 0.6  0.7  0.68 0.47 0.92 0.66\n",
      " 0.84 0.96 0.49 0.51 0.7  0.61 0.75 0.69 0.68 0.76]\n",
      "[[1.71 3.06]\n",
      " [1.78 2.76]\n",
      " [2.36 3.24]\n",
      " [1.95 3.49]\n",
      " [2.59 2.69]\n",
      " [1.76 3.39]\n",
      " [1.87 2.52]\n",
      " [2.15 2.51]\n",
      " [1.64 2.98]\n",
      " [1.35 3.15]\n",
      " [2.16 3.32]\n",
      " [1.48 2.43]\n",
      " [1.73 2.76]\n",
      " [1.73 3.69]\n",
      " [1.87 3.64]\n",
      " [1.81 2.91]\n",
      " [1.92 3.14]\n",
      " [1.57 3.4 ]\n",
      " [1.59 3.93]\n",
      " [3.1  3.03]\n",
      " [1.63 3.17]\n",
      " [3.8  2.41]\n",
      " [1.86 2.88]\n",
      " [1.6  2.37]\n",
      " [1.81 2.61]\n",
      " [2.05 2.68]\n",
      " [1.77 2.94]\n",
      " [1.72 2.19]\n",
      " [1.9  2.97]\n",
      " [1.68 2.33]\n",
      " [1.5  3.25]\n",
      " [1.66 3.19]\n",
      " [1.83 2.69]\n",
      " [1.53 2.74]\n",
      " [1.8  2.53]\n",
      " [1.81 2.98]\n",
      " [1.64 2.68]\n",
      " [1.65 2.43]\n",
      " [1.5  2.64]\n",
      " [3.99 3.04]\n",
      " [1.71 3.29]\n",
      " [3.84 2.68]\n",
      " [1.89 3.56]\n",
      " [3.98 2.63]\n",
      " [1.77 3.  ]\n",
      " [4.04 2.65]\n",
      " [3.59 3.17]\n",
      " [1.68 3.39]\n",
      " [2.02 2.92]\n",
      " [1.73 3.54]\n",
      " [1.73 3.27]\n",
      " [1.65 2.99]\n",
      " [1.75 3.74]\n",
      " [1.9  2.79]\n",
      " [1.67 2.9 ]\n",
      " [1.73 2.78]\n",
      " [1.7  3.  ]\n",
      " [1.97 3.23]\n",
      " [1.43 3.67]\n",
      " [0.94 0.57]\n",
      " [1.1  1.09]\n",
      " [1.36 1.41]\n",
      " [1.25 1.79]\n",
      " [1.13 3.1 ]\n",
      " [1.45 1.75]\n",
      " [1.21 2.65]\n",
      " [1.01 3.18]\n",
      " [1.17 2.  ]\n",
      " [0.94 1.3 ]\n",
      " [1.19 1.28]\n",
      " [1.61 1.02]\n",
      " [1.51 2.86]\n",
      " [1.66 1.84]\n",
      " [1.67 2.89]\n",
      " [1.09 2.14]\n",
      " [1.88 1.57]\n",
      " [0.9  2.03]\n",
      " [2.89 1.32]\n",
      " [0.99 1.85]\n",
      " [3.87 2.55]\n",
      " [0.92 2.26]\n",
      " [1.81 2.53]\n",
      " [1.13 1.58]\n",
      " [3.86 1.59]\n",
      " [0.89 2.21]\n",
      " [0.98 1.94]\n",
      " [1.61 1.69]\n",
      " [1.67 1.61]\n",
      " [2.06 1.69]\n",
      " [1.33 1.59]\n",
      " [1.83 1.5 ]\n",
      " [1.51 1.25]\n",
      " [1.53 1.46]\n",
      " [2.83 2.25]\n",
      " [1.99 2.26]\n",
      " [1.52 2.27]\n",
      " [2.12 0.99]\n",
      " [1.41 2.5 ]\n",
      " [1.07 3.75]\n",
      " [3.17 2.99]\n",
      " [2.08 2.17]\n",
      " [1.34 1.36]\n",
      " [2.45 2.11]\n",
      " [1.72 1.64]\n",
      " [1.73 1.92]\n",
      " [2.55 1.84]\n",
      " [1.73 2.03]\n",
      " [1.75 1.76]\n",
      " [1.29 2.04]\n",
      " [1.35 2.92]\n",
      " [3.74 2.58]\n",
      " [2.43 2.27]\n",
      " [2.68 2.03]\n",
      " [0.74 2.01]\n",
      " [1.39 2.29]\n",
      " [1.51 2.17]\n",
      " [1.47 1.6 ]\n",
      " [1.61 2.09]\n",
      " [3.43 1.25]\n",
      " [3.43 1.64]\n",
      " [2.4  2.79]\n",
      " [2.05 5.08]\n",
      " [4.43 2.13]\n",
      " [5.8  2.65]\n",
      " [4.31 3.03]\n",
      " [2.16 2.65]\n",
      " [1.53 3.15]\n",
      " [2.13 2.24]\n",
      " [1.63 2.45]\n",
      " [4.3  1.75]\n",
      " [1.35 1.25]\n",
      " [2.99 1.22]\n",
      " [2.31 1.09]\n",
      " [3.55 1.2 ]\n",
      " [1.24 0.58]\n",
      " [2.46 0.66]\n",
      " [4.72 0.47]\n",
      " [5.51 0.6 ]\n",
      " [3.59 0.48]\n",
      " [2.96 0.6 ]\n",
      " [2.81 0.5 ]\n",
      " [2.56 0.5 ]\n",
      " [3.17 0.52]\n",
      " [4.95 0.8 ]\n",
      " [3.88 0.78]\n",
      " [3.57 0.55]\n",
      " [5.04 0.34]\n",
      " [4.61 0.65]\n",
      " [3.24 0.76]\n",
      " [3.9  1.39]\n",
      " [3.12 1.57]\n",
      " [2.67 1.36]\n",
      " [1.9  1.28]\n",
      " [3.3  0.83]\n",
      " [1.29 0.58]\n",
      " [5.19 0.63]\n",
      " [4.12 0.83]\n",
      " [3.03 0.58]\n",
      " [1.68 1.31]\n",
      " [1.67 1.1 ]\n",
      " [3.83 0.92]\n",
      " [3.26 0.56]\n",
      " [3.27 0.6 ]\n",
      " [3.45 0.7 ]\n",
      " [2.76 0.68]\n",
      " [4.36 0.47]\n",
      " [3.7  0.92]\n",
      " [3.37 0.66]\n",
      " [2.58 0.84]\n",
      " [4.6  0.96]\n",
      " [3.03 0.49]\n",
      " [2.39 0.51]\n",
      " [2.51 0.7 ]\n",
      " [5.65 0.61]\n",
      " [3.91 0.75]\n",
      " [4.28 0.69]\n",
      " [2.59 0.68]\n",
      " [4.1  0.76]]\n",
      "146\n",
      "146\n",
      "0.34\n",
      "0.34\n"
     ]
    }
   ],
   "source": [
    "X = wine['data']  # 1, 2, 6 as features\n",
    "# metric contains \"malic acid\", \"ash\", \"nonflavanoid phenols\"\n",
    "metrics2D = X[:, [1, 6]]\n",
    "metrics3D = X[:, [1, 2, 6]]\n",
    "X = X\n",
    "print(np.dot(metrics2D, [0, 1]))\n",
    "print(metrics2D)\n",
    "print(np.argmin(X[:,6]))\n",
    "print(np.argmin(metrics2D[:,1]))\n",
    "print(np.min(X[:,6]))\n",
    "print(np.min(metrics2D[:,1]))"
   ]
  },
  {
   "cell_type": "code",
   "execution_count": 6,
   "id": "f06918db",
   "metadata": {},
   "outputs": [],
   "source": [
    "def wsum(cost, weights):\n",
    "    tot = np.dot(cost, weights)\n",
    "    arg = np.argmin(tot)\n",
    "    return arg\n",
    "\n",
    "    \n",
    "    "
   ]
  },
  {
   "cell_type": "code",
   "execution_count": 7,
   "id": "893f61df",
   "metadata": {},
   "outputs": [
    {
     "name": "stdout",
     "output_type": "stream",
     "text": [
      "146 146\n"
     ]
    }
   ],
   "source": [
    "elem_idA = wsum(metrics2D, weights=[0, 1])\n",
    "print(elem_idA, np.argmin(X[:, 6]))"
   ]
  },
  {
   "cell_type": "code",
   "execution_count": 8,
   "id": "e43905e5",
   "metadata": {},
   "outputs": [
    {
     "name": "stdout",
     "output_type": "stream",
     "text": [
      "113 113\n"
     ]
    }
   ],
   "source": [
    "elem_idB = wsum(metrics2D, weights=[1, 0])\n",
    "print(elem_idB, np.argmin(X[:, 1]))"
   ]
  },
  {
   "cell_type": "code",
   "execution_count": 9,
   "id": "ee7b2a57",
   "metadata": {},
   "outputs": [
    {
     "name": "stdout",
     "output_type": "stream",
     "text": [
      "146 146\n"
     ]
    }
   ],
   "source": [
    "elem_idA = wsum(X, weights=[0, 0, 0, 0, 0, 1, 0, 0, 0, 0, 0, 0, 0])\n",
    "print(elem_idA, np.argmin(X[:, 5]))"
   ]
  },
  {
   "cell_type": "code",
   "execution_count": 10,
   "id": "df976789",
   "metadata": {},
   "outputs": [
    {
     "name": "stdout",
     "output_type": "stream",
     "text": [
      "60 60\n"
     ]
    }
   ],
   "source": [
    "elem_idB = wsum(X, weights=[0, 0, 0, 0, 0, 0, 0, 0, 1, 0, 0, 0, 0])\n",
    "print(elem_idB, np.argmin(X[:, 8]))"
   ]
  },
  {
   "cell_type": "code",
   "execution_count": 11,
   "id": "71008103",
   "metadata": {},
   "outputs": [
    {
     "name": "stdout",
     "output_type": "stream",
     "text": [
      "59 59\n"
     ]
    }
   ],
   "source": [
    "elem_idC = wsum(X, weights=[0.1, 0.1, 0.2, 0.3, 0, 0, 0, 0, .3, 0, 0, 0, 0])\n",
    "print(elem_idC, 59)"
   ]
  },
  {
   "cell_type": "code",
   "execution_count": 12,
   "id": "1b01af6b",
   "metadata": {},
   "outputs": [
    {
     "data": {
      "text/plain": [
       "<matplotlib.collections.PathCollection at 0x14f754460>"
      ]
     },
     "execution_count": 12,
     "metadata": {},
     "output_type": "execute_result"
    },
    {
     "data": {
      "image/png": "[encoded data removed]",
      "text/plain": [
       "<Figure size 432x288 with 1 Axes>"
      ]
     },
     "metadata": {
      "needs_background": "light"
     },
     "output_type": "display_data"
    }
   ],
   "source": [
    "import matplotlib.pyplot as plt\n",
    "plt.scatter(metrics2D[:,0], metrics2D[:,1])"
   ]
  },
  {
   "cell_type": "code",
   "execution_count": 13,
   "id": "d898ab68",
   "metadata": {},
   "outputs": [
    {
     "data": {
      "text/plain": [
       "array([[1.71, 3.06],\n",
       "       [1.78, 2.76],\n",
       "       [2.36, 3.24],\n",
       "       [1.95, 3.49],\n",
       "       [2.59, 2.69],\n",
       "       [1.76, 3.39],\n",
       "       [1.87, 2.52],\n",
       "       [2.15, 2.51],\n",
       "       [1.64, 2.98],\n",
       "       [1.35, 3.15],\n",
       "       [2.16, 3.32],\n",
       "       [1.48, 2.43],\n",
       "       [1.73, 2.76],\n",
       "       [1.73, 3.69],\n",
       "       [1.87, 3.64],\n",
       "       [1.81, 2.91],\n",
       "       [1.92, 3.14],\n",
       "       [1.57, 3.4 ],\n",
       "       [1.59, 3.93],\n",
       "       [3.1 , 3.03],\n",
       "       [1.63, 3.17],\n",
       "       [3.8 , 2.41],\n",
       "       [1.86, 2.88],\n",
       "       [1.6 , 2.37],\n",
       "       [1.81, 2.61],\n",
       "       [2.05, 2.68],\n",
       "       [1.77, 2.94],\n",
       "       [1.72, 2.19],\n",
       "       [1.9 , 2.97],\n",
       "       [1.68, 2.33],\n",
       "       [1.5 , 3.25],\n",
       "       [1.66, 3.19],\n",
       "       [1.83, 2.69],\n",
       "       [1.53, 2.74],\n",
       "       [1.8 , 2.53],\n",
       "       [1.81, 2.98],\n",
       "       [1.64, 2.68],\n",
       "       [1.65, 2.43],\n",
       "       [1.5 , 2.64],\n",
       "       [3.99, 3.04],\n",
       "       [1.71, 3.29],\n",
       "       [3.84, 2.68],\n",
       "       [1.89, 3.56],\n",
       "       [3.98, 2.63],\n",
       "       [1.77, 3.  ],\n",
       "       [4.04, 2.65],\n",
       "       [3.59, 3.17],\n",
       "       [1.68, 3.39],\n",
       "       [2.02, 2.92],\n",
       "       [1.73, 3.54],\n",
       "       [1.73, 3.27],\n",
       "       [1.65, 2.99],\n",
       "       [1.75, 3.74],\n",
       "       [1.9 , 2.79],\n",
       "       [1.67, 2.9 ],\n",
       "       [1.73, 2.78],\n",
       "       [1.7 , 3.  ],\n",
       "       [1.97, 3.23],\n",
       "       [1.43, 3.67],\n",
       "       [0.94, 0.57],\n",
       "       [1.1 , 1.09],\n",
       "       [1.36, 1.41],\n",
       "       [1.25, 1.79],\n",
       "       [1.13, 3.1 ],\n",
       "       [1.45, 1.75],\n",
       "       [1.21, 2.65],\n",
       "       [1.01, 3.18],\n",
       "       [1.17, 2.  ],\n",
       "       [0.94, 1.3 ],\n",
       "       [1.19, 1.28],\n",
       "       [1.61, 1.02],\n",
       "       [1.51, 2.86],\n",
       "       [1.66, 1.84],\n",
       "       [1.67, 2.89],\n",
       "       [1.09, 2.14],\n",
       "       [1.88, 1.57],\n",
       "       [0.9 , 2.03],\n",
       "       [2.89, 1.32],\n",
       "       [0.99, 1.85],\n",
       "       [3.87, 2.55],\n",
       "       [0.92, 2.26],\n",
       "       [1.81, 2.53],\n",
       "       [1.13, 1.58],\n",
       "       [3.86, 1.59],\n",
       "       [0.89, 2.21],\n",
       "       [0.98, 1.94],\n",
       "       [1.61, 1.69],\n",
       "       [1.67, 1.61],\n",
       "       [2.06, 1.69],\n",
       "       [1.33, 1.59],\n",
       "       [1.83, 1.5 ],\n",
       "       [1.51, 1.25],\n",
       "       [1.53, 1.46],\n",
       "       [2.83, 2.25],\n",
       "       [1.99, 2.26],\n",
       "       [1.52, 2.27],\n",
       "       [2.12, 0.99],\n",
       "       [1.41, 2.5 ],\n",
       "       [1.07, 3.75],\n",
       "       [3.17, 2.99],\n",
       "       [2.08, 2.17],\n",
       "       [1.34, 1.36],\n",
       "       [2.45, 2.11],\n",
       "       [1.72, 1.64],\n",
       "       [1.73, 1.92],\n",
       "       [2.55, 1.84],\n",
       "       [1.73, 2.03],\n",
       "       [1.75, 1.76],\n",
       "       [1.29, 2.04],\n",
       "       [1.35, 2.92],\n",
       "       [3.74, 2.58],\n",
       "       [2.43, 2.27],\n",
       "       [2.68, 2.03],\n",
       "       [0.74, 2.01],\n",
       "       [1.39, 2.29],\n",
       "       [1.51, 2.17],\n",
       "       [1.47, 1.6 ],\n",
       "       [1.61, 2.09],\n",
       "       [3.43, 1.25],\n",
       "       [3.43, 1.64],\n",
       "       [2.4 , 2.79],\n",
       "       [2.05, 5.08],\n",
       "       [4.43, 2.13],\n",
       "       [5.8 , 2.65],\n",
       "       [4.31, 3.03],\n",
       "       [2.16, 2.65],\n",
       "       [1.53, 3.15],\n",
       "       [2.13, 2.24],\n",
       "       [1.63, 2.45],\n",
       "       [4.3 , 1.75],\n",
       "       [1.35, 1.25],\n",
       "       [2.99, 1.22],\n",
       "       [2.31, 1.09],\n",
       "       [3.55, 1.2 ],\n",
       "       [1.24, 0.58],\n",
       "       [2.46, 0.66],\n",
       "       [4.72, 0.47],\n",
       "       [5.51, 0.6 ],\n",
       "       [3.59, 0.48],\n",
       "       [2.96, 0.6 ],\n",
       "       [2.81, 0.5 ],\n",
       "       [2.56, 0.5 ],\n",
       "       [3.17, 0.52],\n",
       "       [4.95, 0.8 ],\n",
       "       [3.88, 0.78],\n",
       "       [3.57, 0.55],\n",
       "       [5.04, 0.34],\n",
       "       [4.61, 0.65],\n",
       "       [3.24, 0.76],\n",
       "       [3.9 , 1.39],\n",
       "       [3.12, 1.57],\n",
       "       [2.67, 1.36],\n",
       "       [1.9 , 1.28],\n",
       "       [3.3 , 0.83],\n",
       "       [1.29, 0.58],\n",
       "       [5.19, 0.63],\n",
       "       [4.12, 0.83],\n",
       "       [3.03, 0.58],\n",
       "       [1.68, 1.31],\n",
       "       [1.67, 1.1 ],\n",
       "       [3.83, 0.92],\n",
       "       [3.26, 0.56],\n",
       "       [3.27, 0.6 ],\n",
       "       [3.45, 0.7 ],\n",
       "       [2.76, 0.68],\n",
       "       [4.36, 0.47],\n",
       "       [3.7 , 0.92],\n",
       "       [3.37, 0.66],\n",
       "       [2.58, 0.84],\n",
       "       [4.6 , 0.96],\n",
       "       [3.03, 0.49],\n",
       "       [2.39, 0.51],\n",
       "       [2.51, 0.7 ],\n",
       "       [5.65, 0.61],\n",
       "       [3.91, 0.75],\n",
       "       [4.28, 0.69],\n",
       "       [2.59, 0.68],\n",
       "       [4.1 , 0.76]])"
      ]
     },
     "execution_count": 13,
     "metadata": {},
     "output_type": "execute_result"
    }
   ],
   "source": [
    "metrics2D"
   ]
  },
  {
   "cell_type": "code",
   "execution_count": 14,
   "id": "392633f7",
   "metadata": {},
   "outputs": [],
   "source": [
    "def is_pareto_efficient_dumb(costs):\n",
    "    \"\"\"\n",
    "    Find the pareto-efficient points\n",
    "    :param costs: An (n_points, n_costs) array\n",
    "    :return: A (n_points, ) boolean array, indicating whether each point is Pareto efficient\n",
    "    \"\"\"\n",
    "    is_efficient = np.ones(costs.shape[0], dtype = bool)\n",
    "    for i, c in enumerate(costs):\n",
    "        is_efficient[i] = np.all(np.any(costs[:i]>c, axis=1)) and np.all(np.any(costs[i+1:]>c, axis=1))\n",
    "    return is_efficient\n"
   ]
  },
  {
   "cell_type": "code",
   "execution_count": 15,
   "id": "b7978c73",
   "metadata": {},
   "outputs": [
    {
     "name": "stdout",
     "output_type": "stream",
     "text": [
      "[array([[0.94, 1.36, 0.57],\n",
      "       [0.9 , 1.71, 2.03],\n",
      "       [0.74, 2.5 , 2.01],\n",
      "       [3.59, 2.19, 0.48],\n",
      "       [2.56, 2.35, 0.5 ],\n",
      "       [3.57, 2.15, 0.55],\n",
      "       [5.04, 2.23, 0.34],\n",
      "       [4.36, 2.26, 0.47],\n",
      "       [3.03, 2.32, 0.49],\n",
      "       [2.39, 2.28, 0.51]]), array([[1.1 , 2.28, 1.09],\n",
      "       [1.01, 1.7 , 3.18],\n",
      "       [1.17, 1.92, 2.  ],\n",
      "       [0.94, 2.36, 1.3 ],\n",
      "       [1.19, 1.75, 1.28],\n",
      "       [0.99, 1.95, 1.85],\n",
      "       [0.92, 2.  , 2.26],\n",
      "       [0.89, 2.58, 2.21],\n",
      "       [0.98, 2.24, 1.94],\n",
      "       [2.08, 1.7 , 2.17],\n",
      "       [3.43, 1.98, 1.25],\n",
      "       [1.24, 2.25, 0.58],\n",
      "       [4.72, 2.54, 0.47],\n",
      "       [2.81, 2.7 , 0.5 ],\n",
      "       [1.29, 2.1 , 0.58],\n",
      "       [3.26, 2.54, 0.56]]), array([[1.25, 1.92, 1.79],\n",
      "       [1.13, 2.16, 3.1 ],\n",
      "       [1.61, 2.21, 1.02],\n",
      "       [1.09, 2.3 , 2.14],\n",
      "       [1.13, 2.51, 1.58],\n",
      "       [1.33, 2.3 , 1.59],\n",
      "       [2.12, 2.74, 0.99],\n",
      "       [1.07, 2.1 , 3.75],\n",
      "       [1.34, 1.9 , 1.36],\n",
      "       [1.72, 1.88, 1.64],\n",
      "       [3.74, 1.82, 2.58],\n",
      "       [1.35, 2.32, 1.25],\n",
      "       [2.46, 2.2 , 0.66],\n",
      "       [2.96, 2.61, 0.6 ],\n",
      "       [3.17, 2.72, 0.52],\n",
      "       [4.61, 2.48, 0.65],\n",
      "       [5.19, 2.32, 0.63],\n",
      "       [3.03, 2.64, 0.58],\n",
      "       [3.27, 2.58, 0.6 ],\n",
      "       [5.65, 2.45, 0.61]]), array([[1.36, 2.02, 1.41],\n",
      "       [1.21, 2.56, 2.65],\n",
      "       [1.88, 1.92, 1.57],\n",
      "       [2.89, 2.23, 1.32],\n",
      "       [1.51, 2.42, 1.25],\n",
      "       [1.73, 1.98, 1.92],\n",
      "       [1.29, 1.94, 2.04],\n",
      "       [1.47, 1.99, 1.6 ],\n",
      "       [2.31, 2.4 , 1.09],\n",
      "       [5.51, 2.64, 0.6 ],\n",
      "       [3.88, 2.2 , 0.78],\n",
      "       [3.3 , 2.28, 0.83],\n",
      "       [1.67, 2.64, 1.1 ],\n",
      "       [2.76, 2.3 , 0.68],\n",
      "       [3.37, 2.3 , 0.66],\n",
      "       [2.51, 2.48, 0.7 ],\n",
      "       [4.28, 2.26, 0.69],\n",
      "       [2.59, 2.37, 0.68]]), array([[1.35, 2.27, 3.15],\n",
      "       [1.48, 2.32, 2.43],\n",
      "       [1.72, 2.14, 2.19],\n",
      "       [1.45, 2.53, 1.75],\n",
      "       [1.66, 2.24, 1.84],\n",
      "       [1.53, 2.26, 1.46],\n",
      "       [1.41, 1.98, 2.5 ],\n",
      "       [1.73, 2.12, 2.03],\n",
      "       [1.35, 2.7 , 2.92],\n",
      "       [1.39, 2.5 , 2.29],\n",
      "       [1.51, 2.2 , 2.17],\n",
      "       [1.61, 2.19, 2.09],\n",
      "       [3.43, 2.  , 1.64],\n",
      "       [2.99, 2.4 , 1.22],\n",
      "       [3.24, 2.38, 0.76],\n",
      "       [2.67, 2.48, 1.36],\n",
      "       [1.9 , 2.75, 1.28],\n",
      "       [1.68, 2.7 , 1.31],\n",
      "       [3.45, 2.35, 0.7 ],\n",
      "       [2.58, 2.69, 0.84]]), array([[1.5 , 2.1 , 2.64],\n",
      "       [1.73, 2.04, 3.27],\n",
      "       [1.43, 2.5 , 3.67],\n",
      "       [1.61, 2.31, 1.69],\n",
      "       [1.67, 2.62, 1.61],\n",
      "       [1.83, 2.32, 1.5 ],\n",
      "       [2.83, 2.22, 2.25],\n",
      "       [1.52, 2.2 , 2.27],\n",
      "       [2.55, 2.27, 1.84],\n",
      "       [1.75, 2.28, 1.76],\n",
      "       [2.43, 2.17, 2.27],\n",
      "       [3.55, 2.36, 1.2 ],\n",
      "       [4.95, 2.35, 0.8 ],\n",
      "       [4.12, 2.38, 0.83],\n",
      "       [3.83, 2.38, 0.92],\n",
      "       [3.7 , 2.6 , 0.92],\n",
      "       [3.91, 2.48, 0.75]]), array([[1.78, 2.14, 2.76],\n",
      "       [1.64, 2.17, 2.98],\n",
      "       [1.63, 2.28, 3.17],\n",
      "       [1.6 , 2.52, 2.37],\n",
      "       [1.68, 2.21, 2.33],\n",
      "       [1.5 , 2.7 , 3.25],\n",
      "       [1.53, 2.7 , 2.74],\n",
      "       [3.84, 2.12, 2.68],\n",
      "       [1.77, 2.1 , 3.  ],\n",
      "       [1.68, 2.12, 3.39],\n",
      "       [1.67, 2.25, 2.9 ],\n",
      "       [1.51, 2.67, 2.86],\n",
      "       [1.81, 2.2 , 2.53],\n",
      "       [3.86, 2.32, 1.59],\n",
      "       [2.06, 2.46, 1.69],\n",
      "       [1.99, 2.28, 2.26],\n",
      "       [5.8 , 2.13, 2.65],\n",
      "       [2.16, 2.17, 2.65],\n",
      "       [1.53, 2.29, 3.15],\n",
      "       [1.63, 2.3 , 2.45],\n",
      "       [3.9 , 2.36, 1.39],\n",
      "       [3.12, 2.62, 1.57],\n",
      "       [4.1 , 2.74, 0.76]]), array([[1.87, 2.45, 2.52],\n",
      "       [1.73, 2.41, 2.76],\n",
      "       [1.57, 2.62, 3.4 ],\n",
      "       [1.59, 2.48, 3.93],\n",
      "       [1.66, 2.36, 3.19],\n",
      "       [1.83, 2.36, 2.69],\n",
      "       [1.64, 2.84, 2.68],\n",
      "       [1.65, 2.55, 2.43],\n",
      "       [3.98, 2.29, 2.63],\n",
      "       [1.73, 2.27, 3.54],\n",
      "       [1.7 , 2.3 , 3.  ],\n",
      "       [3.87, 2.4 , 2.55],\n",
      "       [3.17, 2.21, 2.99],\n",
      "       [2.45, 2.46, 2.11],\n",
      "       [2.68, 2.92, 2.03],\n",
      "       [2.13, 2.78, 2.24],\n",
      "       [4.3 , 2.38, 1.75],\n",
      "       [4.6 , 2.86, 0.96]]), array([[1.71, 2.43, 3.06],\n",
      "       [2.15, 2.61, 2.51],\n",
      "       [2.16, 2.3 , 3.32],\n",
      "       [3.8 , 2.65, 2.41],\n",
      "       [1.86, 2.36, 2.88],\n",
      "       [1.81, 2.61, 2.61],\n",
      "       [1.8 , 2.65, 2.53],\n",
      "       [1.81, 2.41, 2.98],\n",
      "       [1.71, 2.31, 3.29],\n",
      "       [4.04, 2.44, 2.65],\n",
      "       [3.59, 2.28, 3.17],\n",
      "       [1.65, 2.6 , 2.99],\n",
      "       [1.73, 2.46, 2.78],\n",
      "       [1.67, 2.6 , 2.89],\n",
      "       [2.4 , 2.42, 2.79],\n",
      "       [4.43, 2.73, 2.13]]), array([[2.59, 2.87, 2.69],\n",
      "       [1.76, 2.45, 3.39],\n",
      "       [1.73, 2.39, 3.69],\n",
      "       [1.87, 2.38, 3.64],\n",
      "       [1.81, 2.7 , 2.91],\n",
      "       [2.05, 3.22, 2.68],\n",
      "       [1.77, 2.62, 2.94],\n",
      "       [2.02, 2.4 , 2.92],\n",
      "       [1.9 , 2.68, 2.79],\n",
      "       [4.31, 2.39, 3.03]]), array([[2.36, 2.67, 3.24],\n",
      "       [1.95, 2.5 , 3.49],\n",
      "       [1.92, 2.72, 3.14],\n",
      "       [3.1 , 2.56, 3.03],\n",
      "       [1.9 , 2.8 , 2.97],\n",
      "       [3.99, 2.51, 3.04],\n",
      "       [1.89, 2.59, 3.56],\n",
      "       [1.75, 2.42, 3.74],\n",
      "       [1.97, 2.68, 3.23]]), array([[2.05, 3.23, 5.08]])]\n"
     ]
    }
   ],
   "source": [
    "al = metrics3D\n",
    "l = []\n",
    "while al.shape[0]>0:\n",
    "    fronts = np.argwhere(is_pareto_efficient_dumb(al)).flatten().tolist()\n",
    "    l.append(al[fronts])\n",
    "    al = np.delete(al, fronts,axis=0)\n",
    "print(l)"
   ]
  },
  {
   "cell_type": "code",
   "execution_count": 16,
   "id": "1edfa4e9",
   "metadata": {},
   "outputs": [
    {
     "data": {
      "text/plain": [
       "12"
      ]
     },
     "execution_count": 16,
     "metadata": {},
     "output_type": "execute_result"
    }
   ],
   "source": [
    "len(l)"
   ]
  },
  {
   "cell_type": "code",
   "execution_count": 24,
   "id": "eebffc49",
   "metadata": {},
   "outputs": [
    {
     "name": "stdout",
     "output_type": "stream",
     "text": [
      "0.74 5.04 4.3\n",
      "0.34 2.01 1.6699999999999997\n",
      "[[0.94 0.57]\n",
      " [0.74 2.01]\n",
      " [3.59 0.48]\n",
      " [2.56 0.5 ]\n",
      " [5.04 0.34]\n",
      " [4.36 0.47]\n",
      " [3.03 0.49]\n",
      " [2.39 0.51]]\n",
      "[[0.04651163 0.13772455]\n",
      " [0.         1.        ]\n",
      " [0.6627907  0.08383234]\n",
      " [0.42325581 0.09580838]\n",
      " [1.         0.        ]\n",
      " [0.84186047 0.07784431]\n",
      " [0.53255814 0.08982036]\n",
      " [0.38372093 0.10179641]]\n",
      "[[0.         1.        ]\n",
      " [0.04651163 0.13772455]\n",
      " [0.38372093 0.10179641]\n",
      " [0.42325581 0.09580838]\n",
      " [0.53255814 0.08982036]\n",
      " [0.6627907  0.08383234]\n",
      " [0.84186047 0.07784431]\n",
      " [1.         0.        ]]\n",
      "[       inf 3.74042612 3.10976187 1.28650606 2.01208745 2.80974795\n",
      " 9.88330316        inf]\n"
     ]
    }
   ],
   "source": [
    "ll = [59, 113, 138, 141, 146, 165, 170, 171]\n",
    "a = metrics2D[ll,:]\n",
    "n_cases = a.shape[0]\n",
    "n_obj = a.shape[1]\n",
    "normalized = np.zeros_like(a)\n",
    "for i in range(n_obj):\n",
    "    min_val = np.min(a[:,i])\n",
    "    max_val = np.max(a[:,i])\n",
    "    val_range = max_val - min_val\n",
    "    print(min_val,max_val, val_range)\n",
    "    normalized[:,i] = (a[:,i] - min_val) / val_range\n",
    "print(a)\n",
    "print(normalized)\n",
    "print(normalized[normalized[:, 0].argsort()])\n",
    "distances = np.zeros(n_cases)\n",
    "\n",
    "\n",
    "\n",
    "for fronts in a:\n",
    "    for j in range(n_obj):\n",
    "        sorted_a = normalized[normalized[:, j].argsort()]\n",
    "        distances[0] = np.inf\n",
    "        distances[-1] = np.inf\n",
    "        if len(sorted_a) > 2:\n",
    "                for ii in range(1,len(sorted_a)-1):\n",
    "                    distances[ii] += sorted_a[ii+1,j] - sorted_a[ii-1,j]\n",
    "        \n",
    "print(distances)\n",
    "\n"
   ]
  },
  {
   "cell_type": "code",
   "execution_count": 18,
   "id": "ab3709db",
   "metadata": {},
   "outputs": [],
   "source": [
    "(-0.74+2.39) + (-2.01+0.51)\n",
    "113, 59, 171, 141, 170, 138, 165, 146\n",
    "0.383\n",
    "146, 165, 138,..\n",
    "0.08"
   ]
  },
  {
   "cell_type": "code",
   "execution_count": 28,
   "id": "0bf77f73",
   "metadata": {},
   "outputs": [
    {
     "data": {
      "text/plain": [
       "1.23541289"
      ]
     },
     "execution_count": 28,
     "metadata": {},
     "output_type": "execute_result"
    }
   ],
   "source": [
    "(1-0.6627907) + (1-0.10179641)"
   ]
  },
  {
   "cell_type": "code",
   "execution_count": 20,
   "id": "25650ab5",
   "metadata": {},
   "outputs": [
    {
     "data": {
      "text/plain": [
       "False"
      ]
     },
     "execution_count": 20,
     "metadata": {},
     "output_type": "execute_result"
    }
   ],
   "source": [
    "np.allclose(CrowdingDist(a),[np.inf, 1.20264686, 0.37910368, 0.14945202,\n",
    "                                     0.23983638, 0.30954001, 0.3554306, np.inf])"
   ]
  },
  {
   "cell_type": "code",
   "execution_count": 40,
   "id": "3c005da3",
   "metadata": {},
   "outputs": [
    {
     "data": {
      "text/plain": [
       "array([ True, False])"
      ]
     },
     "execution_count": 40,
     "metadata": {},
     "output_type": "execute_result"
    }
   ],
   "source": [
    "np.any([[True, False], [False, False], [True, False]], axis=0)"
   ]
  },
  {
   "cell_type": "code",
   "execution_count": 37,
   "id": "926ba54a",
   "metadata": {},
   "outputs": [
    {
     "data": {
      "text/plain": [
       "array([ True, False,  True])"
      ]
     },
     "execution_count": 37,
     "metadata": {},
     "output_type": "execute_result"
    }
   ],
   "source": [
    "np.any([[True, False], [False, False], [False, True]], axis=1)"
   ]
  },
  {
   "cell_type": "code",
   "execution_count": 38,
   "id": "2a39e61c",
   "metadata": {},
   "outputs": [
    {
     "data": {
      "text/plain": [
       "True"
      ]
     },
     "execution_count": 38,
     "metadata": {},
     "output_type": "execute_result"
    }
   ],
   "source": [
    "np.any([[True, False], [False, False], [False, True]])"
   ]
  },
  {
   "cell_type": "code",
   "execution_count": 71,
   "id": "0b399fc1",
   "metadata": {},
   "outputs": [
    {
     "data": {
      "text/plain": [
       "array([ True,  True,  True,  True,  True,  True,  True,  True,  True,\n",
       "        True,  True,  True,  True,  True,  True,  True,  True,  True,\n",
       "        True,  True,  True,  True,  True,  True,  True,  True,  True,\n",
       "        True,  True,  True,  True,  True,  True,  True,  True,  True,\n",
       "        True,  True,  True,  True,  True,  True,  True,  True,  True,\n",
       "        True,  True, False, False, False, False,  True, False,  True,\n",
       "        True, False, False, False,  True,  True,  True,  True, False,\n",
       "        True, False,  True, False,  True, False,  True, False,  True,\n",
       "       False, False,  True,  True,  True, False,  True,  True,  True,\n",
       "        True,  True,  True,  True,  True,  True,  True,  True, False,\n",
       "        True,  True,  True,  True,  True,  True, False,  True,  True,\n",
       "        True,  True, False, False,  True, False,  True,  True,  True,\n",
       "        True,  True,  True,  True,  True,  True,  True,  True,  True,\n",
       "        True, False,  True,  True,  True, False,  True,  True,  True,\n",
       "        True,  True,  True,  True,  True,  True,  True,  True,  True,\n",
       "        True,  True,  True,  True,  True,  True,  True, False,  True,\n",
       "        True,  True,  True,  True,  True,  True,  True,  True,  True,\n",
       "        True,  True,  True,  True,  True,  True,  True,  True,  True,\n",
       "        True,  True,  True,  True])"
      ]
     },
     "execution_count": 71,
     "metadata": {},
     "output_type": "execute_result"
    }
   ],
   "source": [
    "np.any(metrics2D[12:]>metrics2D[11,:], axis=1)"
   ]
  },
  {
   "cell_type": "code",
   "execution_count": 58,
   "id": "3ac62bf3",
   "metadata": {},
   "outputs": [],
   "source": [
    "aa = metrics2D[:0]"
   ]
  },
  {
   "cell_type": "code",
   "execution_count": 59,
   "id": "624f9e1b",
   "metadata": {},
   "outputs": [],
   "source": [
    "bb = metrics2D[1,:]"
   ]
  },
  {
   "cell_type": "code",
   "execution_count": 69,
   "id": "121dfd43",
   "metadata": {},
   "outputs": [
    {
     "data": {
      "text/plain": [
       "array([ True, False])"
      ]
     },
     "execution_count": 69,
     "metadata": {},
     "output_type": "execute_result"
    }
   ],
   "source": [
    "metrics2D[11,] > metrics2D[9,]"
   ]
  },
  {
   "cell_type": "code",
   "execution_count": 70,
   "id": "0e8d0305",
   "metadata": {},
   "outputs": [
    {
     "data": {
      "text/plain": [
       "True"
      ]
     },
     "execution_count": 70,
     "metadata": {},
     "output_type": "execute_result"
    }
   ],
   "source": [
    "np.any(metrics2D[11,] > metrics2D[9,])"
   ]
  },
  {
   "cell_type": "code",
   "execution_count": 56,
   "id": "918a0b28",
   "metadata": {},
   "outputs": [
    {
     "data": {
      "text/plain": [
       "array([1.78, 2.76])"
      ]
     },
     "execution_count": 56,
     "metadata": {},
     "output_type": "execute_result"
    }
   ],
   "source": [
    "bb"
   ]
  },
  {
   "cell_type": "code",
   "execution_count": 63,
   "id": "f6aa0f99",
   "metadata": {},
   "outputs": [
    {
     "data": {
      "text/plain": [
       "numpy.ndarray"
      ]
     },
     "execution_count": 63,
     "metadata": {},
     "output_type": "execute_result"
    }
   ],
   "source": [
    "type(np.array((1,2)))"
   ]
  },
  {
   "cell_type": "code",
   "execution_count": null,
   "id": "11f1f2f4",
   "metadata": {},
   "outputs": [],
   "source": []
  }
 ],
 "metadata": {
  "kernelspec": {
   "display_name": "Python 3 (ipykernel)",
   "language": "python",
   "name": "python3"
  },
  "language_info": {
   "codemirror_mode": {
    "name": "ipython",
    "version": 3
   },
   "file_extension": ".py",
   "mimetype": "text/x-python",
   "name": "python",
   "nbconvert_exporter": "python",
   "pygments_lexer": "ipython3",
   "version": "3.9.12"
  }
 },
 "nbformat": 4,
 "nbformat_minor": 5
}
